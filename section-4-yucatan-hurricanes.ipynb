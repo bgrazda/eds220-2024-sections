{
 "cells": [
  {
   "cell_type": "code",
   "execution_count": 27,
   "id": "9d0a8832-4e2b-43eb-9603-558d5dd9f0b7",
   "metadata": {
    "tags": []
   },
   "outputs": [],
   "source": [
    "import pandas as pd\n",
    "import numpy as np\n",
    "import matplotlib.pyplot as plt"
   ]
  },
  {
   "cell_type": "markdown",
   "id": "945dfb6a-98a7-4040-a050-1e46cf6b5fb1",
   "metadata": {},
   "source": [
    "The dataset is looking at hurricane data in the Yucatan Peninsula"
   ]
  },
  {
   "cell_type": "code",
   "execution_count": 2,
   "id": "6b3c60d8-a956-45b4-b888-480dbc2b40a1",
   "metadata": {
    "tags": []
   },
   "outputs": [],
   "source": [
    "# Read in data\n",
    "hurricane = pd.read_csv('data/hf071-01-hurricanes.csv')"
   ]
  },
  {
   "cell_type": "code",
   "execution_count": 3,
   "id": "f549fce8-b88b-4624-be9d-c88af2fb7839",
   "metadata": {
    "tags": []
   },
   "outputs": [
    {
     "data": {
      "text/html": [
       "<div>\n",
       "<style scoped>\n",
       "    .dataframe tbody tr th:only-of-type {\n",
       "        vertical-align: middle;\n",
       "    }\n",
       "\n",
       "    .dataframe tbody tr th {\n",
       "        vertical-align: top;\n",
       "    }\n",
       "\n",
       "    .dataframe thead th {\n",
       "        text-align: right;\n",
       "    }\n",
       "</style>\n",
       "<table border=\"1\" class=\"dataframe\">\n",
       "  <thead>\n",
       "    <tr style=\"text-align: right;\">\n",
       "      <th></th>\n",
       "      <th>code</th>\n",
       "      <th>start.date</th>\n",
       "      <th>end.date</th>\n",
       "      <th>number</th>\n",
       "      <th>name</th>\n",
       "      <th>ss</th>\n",
       "      <th>track</th>\n",
       "      <th>rf.max</th>\n",
       "    </tr>\n",
       "  </thead>\n",
       "  <tbody>\n",
       "    <tr>\n",
       "      <th>0</th>\n",
       "      <td>Y1852</td>\n",
       "      <td>1852-10-07</td>\n",
       "      <td>1852-10-08</td>\n",
       "      <td>5</td>\n",
       "      <td>NaN</td>\n",
       "      <td>2</td>\n",
       "      <td>O</td>\n",
       "      <td>F1</td>\n",
       "    </tr>\n",
       "    <tr>\n",
       "      <th>1</th>\n",
       "      <td>Y1857</td>\n",
       "      <td>1857-09-28</td>\n",
       "      <td>1857-09-28</td>\n",
       "      <td>4</td>\n",
       "      <td>NaN</td>\n",
       "      <td>2</td>\n",
       "      <td>N</td>\n",
       "      <td>F1</td>\n",
       "    </tr>\n",
       "    <tr>\n",
       "      <th>2</th>\n",
       "      <td>Y1861</td>\n",
       "      <td>1861-08-17</td>\n",
       "      <td>1861-08-17</td>\n",
       "      <td>2</td>\n",
       "      <td>NaN</td>\n",
       "      <td>1</td>\n",
       "      <td>O</td>\n",
       "      <td>Nd</td>\n",
       "    </tr>\n",
       "    <tr>\n",
       "      <th>3</th>\n",
       "      <td>Y1864</td>\n",
       "      <td>1864-08-31</td>\n",
       "      <td>1864-08-31</td>\n",
       "      <td>3</td>\n",
       "      <td>NaN</td>\n",
       "      <td>1</td>\n",
       "      <td>S</td>\n",
       "      <td>F1</td>\n",
       "    </tr>\n",
       "    <tr>\n",
       "      <th>4</th>\n",
       "      <td>Y1865</td>\n",
       "      <td>1865-09-11</td>\n",
       "      <td>1865-09-11</td>\n",
       "      <td>4</td>\n",
       "      <td>NaN</td>\n",
       "      <td>2</td>\n",
       "      <td>O</td>\n",
       "      <td>F1</td>\n",
       "    </tr>\n",
       "  </tbody>\n",
       "</table>\n",
       "</div>"
      ],
      "text/plain": [
       "    code  start.date    end.date  number name  ss track rf.max\n",
       "0  Y1852  1852-10-07  1852-10-08       5  NaN   2     O     F1\n",
       "1  Y1857  1857-09-28  1857-09-28       4  NaN   2     N     F1\n",
       "2  Y1861  1861-08-17  1861-08-17       2  NaN   1     O     Nd\n",
       "3  Y1864  1864-08-31  1864-08-31       3  NaN   1     S     F1\n",
       "4  Y1865  1865-09-11  1865-09-11       4  NaN   2     O     F1"
      ]
     },
     "execution_count": 3,
     "metadata": {},
     "output_type": "execute_result"
    }
   ],
   "source": [
    "hurricane.head()"
   ]
  },
  {
   "cell_type": "code",
   "execution_count": 4,
   "id": "47868c74-cb3d-42e8-945b-36f5e04732af",
   "metadata": {
    "tags": []
   },
   "outputs": [
    {
     "data": {
      "text/plain": [
       "code          object\n",
       "start.date    object\n",
       "end.date      object\n",
       "number         int64\n",
       "name          object\n",
       "ss             int64\n",
       "track         object\n",
       "rf.max        object\n",
       "dtype: object"
      ]
     },
     "execution_count": 4,
     "metadata": {},
     "output_type": "execute_result"
    }
   ],
   "source": [
    "hurricane.dtypes"
   ]
  },
  {
   "cell_type": "code",
   "execution_count": 7,
   "id": "70ebd8b2-1e0f-4276-a174-62b06ac15ae5",
   "metadata": {
    "tags": []
   },
   "outputs": [
    {
     "data": {
      "text/plain": [
       "code          105\n",
       "start.date    105\n",
       "end.date      105\n",
       "number         15\n",
       "name           32\n",
       "ss              5\n",
       "track           5\n",
       "rf.max          5\n",
       "dtype: int64"
      ]
     },
     "execution_count": 7,
     "metadata": {},
     "output_type": "execute_result"
    }
   ],
   "source": [
    "hurricane.nunique()"
   ]
  },
  {
   "cell_type": "markdown",
   "id": "c1e2a75c-0b96-47be-a8cc-3fd3e579c142",
   "metadata": {},
   "source": [
    "### How many hurricanes with Saffir-Simpson category 5 have been registered and what was their duration?"
   ]
  },
  {
   "cell_type": "code",
   "execution_count": 24,
   "id": "4eec39c9-ec63-4723-9a19-a94156649720",
   "metadata": {
    "tags": []
   },
   "outputs": [
    {
     "data": {
      "text/plain": [
       "<bound method DataFrame.count of        code start.date   end.date  number     name  ss track rf.max\n",
       "76   Y1955b 1955-09-28 1955-09-28      10    Janet   5     N     F3\n",
       "96   Y1980a 1980-08-07 1980-08-08       1    Allen   5     O     F3\n",
       "98    Y1988 1988-09-14 1988-09-15       8  Gilbert   5     N     F3\n",
       "103   Y1998 1998-10-27 1998-10-28      13    Mitch   5     S     F1>"
      ]
     },
     "execution_count": 24,
     "metadata": {},
     "output_type": "execute_result"
    }
   ],
   "source": [
    "hurricane[hurricane['ss']== 5].count"
   ]
  },
  {
   "cell_type": "code",
   "execution_count": 12,
   "id": "3d0438bf-b7d7-4c39-b000-babc16ca67e3",
   "metadata": {
    "tags": []
   },
   "outputs": [],
   "source": [
    "hurricane['start.date'] = pd.to_datetime(hurricane['start.date'])\n",
    "\n",
    "hurricane['end.date'] = pd.to_datetime(hurricane['end.date'])"
   ]
  },
  {
   "cell_type": "code",
   "execution_count": 13,
   "id": "84244e63-c619-4ab5-b702-f541f20c1668",
   "metadata": {
    "tags": []
   },
   "outputs": [
    {
     "data": {
      "text/plain": [
       "code                  object\n",
       "start.date    datetime64[ns]\n",
       "end.date      datetime64[ns]\n",
       "number                 int64\n",
       "name                  object\n",
       "ss                     int64\n",
       "track                 object\n",
       "rf.max                object\n",
       "dtype: object"
      ]
     },
     "execution_count": 13,
     "metadata": {},
     "output_type": "execute_result"
    }
   ],
   "source": [
    "hurricane.dtypes"
   ]
  },
  {
   "cell_type": "code",
   "execution_count": 25,
   "id": "9c140ce8-1a93-45a1-9937-cdcc6e9b6904",
   "metadata": {
    "tags": []
   },
   "outputs": [],
   "source": [
    "category_5 = hurricane[hurricane['ss']== 5].copy()\n",
    "\n",
    "category_5['duration'] = hurricane['end.date'] - hurricane['start.date']"
   ]
  },
  {
   "cell_type": "code",
   "execution_count": 26,
   "id": "71838d7b-0428-4804-b594-d2d2a6f4a258",
   "metadata": {
    "tags": []
   },
   "outputs": [
    {
     "data": {
      "text/plain": [
       "code                   object\n",
       "start.date     datetime64[ns]\n",
       "end.date       datetime64[ns]\n",
       "number                  int64\n",
       "name                   object\n",
       "ss                      int64\n",
       "track                  object\n",
       "rf.max                 object\n",
       "duration      timedelta64[ns]\n",
       "dtype: object"
      ]
     },
     "execution_count": 26,
     "metadata": {},
     "output_type": "execute_result"
    }
   ],
   "source": [
    "category_5.head()\n",
    "\n",
    "category_5.dtypes"
   ]
  },
  {
   "cell_type": "code",
   "execution_count": null,
   "id": "b824145d-20c6-4798-ac75-94eb9d91c6e3",
   "metadata": {},
   "outputs": [],
   "source": [
    "plt."
   ]
  }
 ],
 "metadata": {
  "kernelspec": {
   "display_name": "Anaconda 3 (Base)",
   "language": "python",
   "name": "base"
  },
  "language_info": {
   "codemirror_mode": {
    "name": "ipython",
    "version": 3
   },
   "file_extension": ".py",
   "mimetype": "text/x-python",
   "name": "python",
   "nbconvert_exporter": "python",
   "pygments_lexer": "ipython3",
   "version": "3.9.13"
  }
 },
 "nbformat": 4,
 "nbformat_minor": 5
}
