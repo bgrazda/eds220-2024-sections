{
 "cells": [
  {
   "cell_type": "code",
   "execution_count": 2,
   "id": "ba1d15bb-9ca3-4970-9424-b6ac2ba8c369",
   "metadata": {
    "tags": []
   },
   "outputs": [],
   "source": [
    "import pandas as pd\n",
    "import numpy as np"
   ]
  },
  {
   "cell_type": "markdown",
   "id": "4252b62e-f31c-45f8-8864-7ad6a8dee3e6",
   "metadata": {
    "tags": []
   },
   "source": [
    "## 1. Archive exploration\n",
    "When possible, data exploration should start at the data repository. Take some time to look through the dataset’s description in the KNB data repository. Discuss the following questions with your team:\n",
    "\n",
    "- What is this data about? \n",
    "    - This data shows prey list of listed species pulled from other scientific research. \n",
    "- Is this data collected in-situ by the authors or is it a synthesis of multiple datasets?\n",
    "     - This dataset is a synthesis of multiple datasets. \n",
    "- During what time frame were the observations in the dataset collected?\n",
    "    - 2009 to 2016\n",
    "- Does this dataset come with an associated metadata file?\n",
    "    - Yes.\n",
    "- Does the dataset contain sensitive data?\n",
    "    - No"
   ]
  },
  {
   "cell_type": "code",
   "execution_count": null,
   "id": "834f6607-b0f0-4af4-80f6-05ed10b400ae",
   "metadata": {},
   "outputs": [],
   "source": [
    "2. Metadata exploration\n",
    "You may have noticed there are two metadata files: Compiled_occurrence_records_for_prey_items_of.xml and metadata_arth_occurrences.csv. The .xml document file type is EML which stands for EML: Ecological Metadata Language. This is a machine-readable file that has metadata about the whole dataset. In this section we will only use the metadata in the CSV file.\n",
    "\n",
    "Back in your notebook, import the pandas package using standard abbreviation in a code cell. Then follow these steps to read in the metadata CSV using the pandas.read_csv() function:\n",
    "\n",
    "Navigate to the data package site and copy the URL to access the metadata_arth_occurrences CSV file. To copy the URL:\n",
    "hover over the Download button –> right click –> “Copy Link”.\n",
    "Read in the data from the URL using the pd.read_csv() function like this:"
   ]
  },
  {
   "cell_type": "code",
   "execution_count": 29,
   "id": "57bd2251-c022-4cc9-a62a-2b542faf7a64",
   "metadata": {
    "tags": []
   },
   "outputs": [
    {
     "name": "stdout",
     "output_type": "stream",
     "text": [
      "  attribute                            description\n",
      "0     class   taxonomic class of observed organism\n",
      "1     order   taxonomic order of observed organism\n",
      "2    family  taxonomic family of observed organism\n",
      "3     genus                             genus name\n",
      "4   species               full latin binomial name\n",
      "<class 'pandas.core.frame.DataFrame'>\n",
      "RangeIndex: 40 entries, 0 to 39\n",
      "Data columns (total 2 columns):\n",
      " #   Column       Non-Null Count  Dtype \n",
      "---  ------       --------------  ----- \n",
      " 0   attribute    40 non-null     object\n",
      " 1   description  40 non-null     object\n",
      "dtypes: object(2)\n",
      "memory usage: 768.0+ bytes\n"
     ]
    }
   ],
   "source": [
    "# Access metadata from repository\n",
    "metadata = pd.read_csv('https://knb.ecoinformatics.org/knb/d1/mn/v2/object/urn%3Auuid%3A3baf7289-bf90-4db3-ad11-58785c09b26e')\n",
    "print(metadata.head()) # First 5 rows of the metadata to later look at prey\n",
    "metadata.info() # Explore columns"
   ]
  },
  {
   "cell_type": "code",
   "execution_count": 15,
   "id": "3f266f83-6a8a-487e-a395-4b64c2f2c61c",
   "metadata": {
    "tags": []
   },
   "outputs": [],
   "source": [
    "# Load data\n",
    "prey = pd.read_csv('https://knb.ecoinformatics.org/knb/d1/mn/v2/object/urn%3Auuid%3A23d42528-1048-45d4-85d1-7e13b666e744')"
   ]
  },
  {
   "cell_type": "code",
   "execution_count": 24,
   "id": "4f660169-0774-42da-a2c9-af1e1d8e8f37",
   "metadata": {
    "tags": []
   },
   "outputs": [
    {
     "name": "stdout",
     "output_type": "stream",
     "text": [
      "<class 'pandas.core.frame.DataFrame'>\n",
      "RangeIndex: 111156 entries, 0 to 111155\n",
      "Data columns (total 40 columns):\n",
      " #   Column                         Non-Null Count   Dtype  \n",
      "---  ------                         --------------   -----  \n",
      " 0   class                          111156 non-null  object \n",
      " 1   order                          111054 non-null  object \n",
      " 2   family                         111156 non-null  object \n",
      " 3   genus                          111156 non-null  object \n",
      " 4   species                        111156 non-null  object \n",
      " 5   lat                            111156 non-null  float64\n",
      " 6   long                           111156 non-null  float64\n",
      " 7   eventDate                      111156 non-null  object \n",
      " 8   day                            110998 non-null  float64\n",
      " 9   month                          111127 non-null  float64\n",
      " 10  year                           111156 non-null  int64  \n",
      " 11  institutionCode                110414 non-null  object \n",
      " 12  coordinateUncertaintyInMeters  84686 non-null   float64\n",
      " 13  basisOfRecord                  111156 non-null  object \n",
      " 14  individualCount                6351 non-null    float64\n",
      " 15  datasetKey                     111156 non-null  object \n",
      " 16  ID                             111156 non-null  int64  \n",
      " 17  bio1                           109629 non-null  float64\n",
      " 18  bio10                          109629 non-null  float64\n",
      " 19  bio11                          109629 non-null  float64\n",
      " 20  bio12                          109629 non-null  float64\n",
      " 21  bio13                          109629 non-null  float64\n",
      " 22  bio14                          109629 non-null  float64\n",
      " 23  bio15                          109629 non-null  float64\n",
      " 24  bio16                          109629 non-null  float64\n",
      " 25  bio17                          109629 non-null  float64\n",
      " 26  bio18                          109629 non-null  float64\n",
      " 27  bio19                          109629 non-null  float64\n",
      " 28  bio2                           109629 non-null  float64\n",
      " 29  bio3                           109629 non-null  float64\n",
      " 30  bio4                           109629 non-null  float64\n",
      " 31  bio5                           109629 non-null  float64\n",
      " 32  bio6                           109629 non-null  float64\n",
      " 33  bio7                           109629 non-null  float64\n",
      " 34  bio8                           109629 non-null  float64\n",
      " 35  bio9                           109629 non-null  float64\n",
      " 36  dist                           109500 non-null  float64\n",
      " 37  dem90_hf                       107765 non-null  float64\n",
      " 38  lc_class                       106905 non-null  object \n",
      " 39  ndvi                           109663 non-null  float64\n",
      "dtypes: float64(28), int64(2), object(10)\n",
      "memory usage: 33.9+ MB\n"
     ]
    }
   ],
   "source": [
    "prey.head() # Want to view the first 5 rows\n",
    "prey.info()  #Checking out the columns and data types"
   ]
  },
  {
   "cell_type": "code",
   "execution_count": 32,
   "id": "aa5fd270-1322-415e-a025-7a9323bdf5d5",
   "metadata": {
    "tags": []
   },
   "outputs": [
    {
     "data": {
      "text/plain": [
       "pandas.core.frame.DataFrame"
      ]
     },
     "execution_count": 32,
     "metadata": {},
     "output_type": "execute_result"
    }
   ],
   "source": [
    "# What is the type of the prey variable? Use a Python function get this information.\n",
    "type(prey)\n",
    "\n",
    "\n",
    "# The prey variable is a DataFrame. "
   ]
  },
  {
   "cell_type": "code",
   "execution_count": null,
   "id": "fc738b9d-ea00-45da-a590-ab4ec6aac8eb",
   "metadata": {},
   "outputs": [],
   "source": []
  }
 ],
 "metadata": {
  "kernelspec": {
   "display_name": "Anaconda 3 (Base)",
   "language": "python",
   "name": "base"
  },
  "language_info": {
   "codemirror_mode": {
    "name": "ipython",
    "version": 3
   },
   "file_extension": ".py",
   "mimetype": "text/x-python",
   "name": "python",
   "nbconvert_exporter": "python",
   "pygments_lexer": "ipython3",
   "version": "3.9.13"
  }
 },
 "nbformat": 4,
 "nbformat_minor": 5
}
